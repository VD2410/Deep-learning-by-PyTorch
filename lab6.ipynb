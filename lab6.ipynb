{
 "cells": [
  {
   "cell_type": "markdown",
   "metadata": {
    "colab_type": "text",
    "id": "wmCbxoDrADcF"
   },
   "source": [
    "\n",
    "\n",
    "# Google Colab setup with Google Drive folder\n",
    "\n",
    "This notebook provides the code you need to set up Google Colab to run and import files from within a Google Drive folder.\n",
    "\n",
    "This will allow you to upload assignment code to your Google Drive and then run the code on Google Colab machines (with free GPUs if needed). \n",
    "\n",
    "You will need to create a folder in your Google Drive to hold your assignments and you will need to open Colaboratory within this folder before running the set up code (check the link above to see how)."
   ]
  },
  {
   "cell_type": "markdown",
   "metadata": {
    "colab_type": "text",
    "id": "zWhrmhqVCyGH"
   },
   "source": [
    "# Mount Google Drive\n",
    "\n",
    "This will allow the Colab machine to access Google Drive folders by mounting the drive on the machine. You will be asked to copy and paste an authentication code."
   ]
  },
  {
   "cell_type": "code",
   "execution_count": 15,
   "metadata": {
    "colab": {
     "base_uri": "https://localhost:8080/",
     "height": 34
    },
    "colab_type": "code",
    "id": "Wv2oKmF9AJtI",
    "outputId": "ae98f58a-ecee-4d79-bbd2-2efb30d5b486"
   },
   "outputs": [
    {
     "name": "stdout",
     "output_type": "stream",
     "text": [
      "Drive already mounted at /content/gdrive/; to attempt to forcibly remount, call drive.mount(\"/content/gdrive/\", force_remount=True).\n"
     ]
    }
   ],
   "source": [
    "from google.colab import drive\n",
    "drive.mount('/content/gdrive/')"
   ]
  },
  {
   "cell_type": "markdown",
   "metadata": {
    "colab_type": "text",
    "id": "4Qs04PPwDOFy"
   },
   "source": [
    "# Change directory to allow imports\n",
    "\n",
    "\n",
    "As noted above, you should create a Google Drive folder to hold all your assignment files. You will need to add this code to the top of any python notebook you run to be able to import python files from your drive assignment folder (you should change the file path below to be your own assignment folder). Following the hand-out, you should have a directory \"SFU_CMPT_CV_lab6\" on g-drive, which should have a directory \"data\", which contains three tar.gz files."
   ]
  },
  {
   "cell_type": "code",
   "execution_count": 0,
   "metadata": {
    "colab": {},
    "colab_type": "code",
    "id": "UA2-UyfpEc9O"
   },
   "outputs": [],
   "source": [
    "import os\n",
    "os.chdir(\"/content/gdrive/My Drive/SFU_CMPT_CV_lab6\")"
   ]
  },
  {
   "cell_type": "code",
   "execution_count": 0,
   "metadata": {
    "colab": {
     "base_uri": "https://localhost:8080/",
     "height": 86
    },
    "colab_type": "code",
    "id": "gyRCWAIyRHWc",
    "outputId": "0327c0ef-5526-48cb-c841-4b1df0bec76d"
   },
   "outputs": [
    {
     "name": "stdout",
     "output_type": "stream",
     "text": [
      "plot.png               submission_netid4.csv  submission_netid8.csv\n",
      "submission_netid1.csv  submission_netid5.csv  submission_netid.csv\n",
      "submission_netid2.csv  submission_netid6.csv\n",
      "submission_netid3.csv  submission_netid7.csv\n"
     ]
    }
   ],
   "source": [
    "ls # Check if this is your folder"
   ]
  },
  {
   "cell_type": "markdown",
   "metadata": {
    "colab_type": "text",
    "id": "SJOCaUMilRz_"
   },
   "source": [
    "# Copy data to local dir"
   ]
  },
  {
   "cell_type": "code",
   "execution_count": 0,
   "metadata": {
    "colab": {},
    "colab_type": "code",
    "id": "90MxG_eRla0W"
   },
   "outputs": [],
   "source": [
    "!mkdir /data\n",
    "!cp ../data/cifar100.tar.gz /data/\n",
    "!tar -xf /data/cifar100.tar.gz -C /data/\n",
    "!cp ../data/test.tar.gz /data\n",
    "!tar -xf /data/test.tar.gz -C /data\n",
    "!cp ../data/train.tar.gz /data\n",
    "!tar -xf /data/train.tar.gz -C /data/"
   ]
  },
  {
   "cell_type": "code",
   "execution_count": 0,
   "metadata": {
    "colab": {
     "base_uri": "https://localhost:8080/",
     "height": 34
    },
    "colab_type": "code",
    "id": "XvFEFItpl98p",
    "outputId": "547610c8-6a6f-4dca-869f-e3ea63ceec84"
   },
   "outputs": [
    {
     "name": "stdout",
     "output_type": "stream",
     "text": [
      "ls: cannot access '/data': No such file or directory\n"
     ]
    }
   ],
   "source": [
    "ls /data"
   ]
  },
  {
   "cell_type": "markdown",
   "metadata": {
    "colab_type": "text",
    "id": "DDU5aVgR9QBx"
   },
   "source": [
    "# Set up GPU and PyTorch\n",
    "\n",
    "First, ensure that your notebook on Colaboratory is set up to use GPU. After opening the notebook on Colaboratory, go to Edit>Notebook settings, select Python 3 under \"Runtime type,\" select GPU under \"Hardware accelerator,\" and save.\n",
    "\n",
    "Next, install PyTorch:"
   ]
  },
  {
   "cell_type": "code",
   "execution_count": 0,
   "metadata": {
    "colab": {
     "base_uri": "https://localhost:8080/",
     "height": 104
    },
    "colab_type": "code",
    "id": "kjbQtzKT9Uc2",
    "outputId": "aa862dc8-f94f-475a-9fe3-1236b91803b9"
   },
   "outputs": [
    {
     "name": "stdout",
     "output_type": "stream",
     "text": [
      "Requirement already satisfied: torch in /usr/local/lib/python3.6/dist-packages (1.4.0)\n",
      "Requirement already satisfied: torchvision in /usr/local/lib/python3.6/dist-packages (0.5.0)\n",
      "Requirement already satisfied: numpy in /usr/local/lib/python3.6/dist-packages (from torchvision) (1.18.2)\n",
      "Requirement already satisfied: six in /usr/local/lib/python3.6/dist-packages (from torchvision) (1.12.0)\n",
      "Requirement already satisfied: pillow>=4.1.1 in /usr/local/lib/python3.6/dist-packages (from torchvision) (7.0.0)\n"
     ]
    }
   ],
   "source": [
    "!pip3 install torch torchvision"
   ]
  },
  {
   "cell_type": "markdown",
   "metadata": {
    "colab_type": "text",
    "id": "u_BekZYY9Vzx"
   },
   "source": [
    "Make sure that pytorch is installed and works with GPU:"
   ]
  },
  {
   "cell_type": "code",
   "execution_count": 0,
   "metadata": {
    "colab": {
     "base_uri": "https://localhost:8080/",
     "height": 34
    },
    "colab_type": "code",
    "id": "8TXSJWQa9efx",
    "outputId": "60a6c353-df34-4366-c2db-c2aff8151b16"
   },
   "outputs": [
    {
     "name": "stdout",
     "output_type": "stream",
     "text": [
      "tensor([1.], device='cuda:0')\n"
     ]
    }
   ],
   "source": [
    "import torch\n",
    "a = torch.Tensor([1]).cuda()\n",
    "print(a)\n"
   ]
  },
  {
   "cell_type": "code",
   "execution_count": 0,
   "metadata": {
    "colab": {
     "base_uri": "https://localhost:8080/",
     "height": 34
    },
    "colab_type": "code",
    "id": "OEeRNsCjRXZK",
    "outputId": "217f968e-8ed2-4b7e-8f97-18230131cc09"
   },
   "outputs": [
    {
     "data": {
      "text/plain": [
       "True"
      ]
     },
     "execution_count": 7,
     "metadata": {
      "tags": []
     },
     "output_type": "execute_result"
    }
   ],
   "source": [
    "torch.cuda.is_available()"
   ]
  },
  {
   "cell_type": "markdown",
   "metadata": {
    "colab_type": "text",
    "id": "qChgLJERsvZP"
   },
   "source": [
    "# Part 1"
   ]
  },
  {
   "cell_type": "code",
   "execution_count": 0,
   "metadata": {
    "colab": {},
    "colab_type": "code",
    "id": "IlyCnvf6WzjR"
   },
   "outputs": [],
   "source": [
    "\"\"\"Headers\"\"\"\n",
    "\n",
    "from __future__ import print_function\n",
    "from PIL import Image\n",
    "import os\n",
    "import os.path\n",
    "import numpy as np\n",
    "import sys\n",
    "if sys.version_info[0] == 2:\n",
    "    import cPickle as pickle\n",
    "else:\n",
    "    import pickle\n",
    "\n",
    "import torch.utils.data as data\n",
    "from torchvision.datasets.utils import download_url, check_integrity\n",
    "\n",
    "import csv\n",
    "%matplotlib inline\n",
    "import matplotlib\n",
    "import matplotlib.pyplot as plt\n",
    "import numpy as np\n",
    "import os.path\n",
    "import sys\n",
    "import torch\n",
    "import torch.utils.data\n",
    "import torchvision\n",
    "import torchvision.transforms as transforms\n",
    "\n",
    "from torch.autograd import Variable\n",
    "import torch.nn as nn\n",
    "import torch.nn.functional as F\n",
    "\n",
    "np.random.seed(111)\n",
    "torch.cuda.manual_seed_all(111)\n",
    "torch.manual_seed(111)\n",
    "\n",
    "os.chdir(\"/content/gdrive/My Drive/SFU_CMPT_CV_lab6\")"
   ]
  },
  {
   "cell_type": "markdown",
   "metadata": {
    "colab_type": "text",
    "id": "137GhZMrcTuj"
   },
   "source": [
    "\n",
    "\n",
    "## **Just execute the cell below. This is the dataloader. DO NOT CHANGE ANYTHING IN HERE!**\n"
   ]
  },
  {
   "cell_type": "code",
   "execution_count": 0,
   "metadata": {
    "colab": {},
    "colab_type": "code",
    "id": "URUH4fzzWqKr"
   },
   "outputs": [],
   "source": [
    "\"\"\"\"\"\"\n",
    "\n",
    "class CIFAR10_SFU_CV(data.Dataset):\n",
    "    \"\"\"`CIFAR10 <https://www.cs.toronto.edu/~kriz/cifar.html>`_ Dataset.\n",
    "\n",
    "    Args:\n",
    "        root (string): Root directory of dataset where directory\n",
    "            ``cifar-10-batches-py`` exists or will be saved to if download is set to True.\n",
    "        train (bool, optional): If True, creates dataset from training set, otherwise\n",
    "            creates from test set.\n",
    "        transform (callable, optional): A function/transform that  takes in an PIL image\n",
    "            and returns a transformed version. E.g, ``transforms.RandomCrop``\n",
    "        target_transform (callable, optional): A function/transform that takes in the\n",
    "            target and transforms it.\n",
    "        download (bool, optional): If true, downloads the dataset from the internet and\n",
    "            puts it in root directory. If dataset is already downloaded, it is not\n",
    "            downloaded again.\n",
    "\n",
    "    \"\"\"\n",
    "    base_folder = 'cifar100'\n",
    "    url = \"https://www.cs.toronto.edu/~kriz/cifar-10-python.tar.gz\"\n",
    "    filename = \"cifar100.tar.gz\"\n",
    "    tgz_md5 = 'c58f30108f718f92721af3b95e74349a'\n",
    "    train_list = [\n",
    "        ['data_batch_1', 'c99cafc152244af753f735de768cd75f'],\n",
    "        ['data_batch_2', 'd4bba439e000b95fd0a9bffe97cbabec'],\n",
    "        ['data_batch_3', '54ebc095f3ab1f0389bbae665268c751'],\n",
    "        ['data_batch_4', '634d18415352ddfa80567beed471001a'],\n",
    "        ['data_batch_5', '482c414d41f54cd18b22e5b47cb7c3cb'],\n",
    "    ]\n",
    "\n",
    "    test_list = [\n",
    "        ['test_batch', '40351d587109b95175f43aff81a1287e'],\n",
    "    ]\n",
    "\n",
    "    def __init__(self, root, fold=\"train\",\n",
    "                 transform=None, target_transform=None,\n",
    "                 download=False):\n",
    "        \n",
    "        fold = fold.lower()\n",
    "\n",
    "        self.train = False\n",
    "        self.test = False\n",
    "        self.val = False\n",
    "\n",
    "        if fold == \"train\":\n",
    "            self.train = True\n",
    "        elif fold == \"test\":\n",
    "            self.test = True\n",
    "        elif fold == \"val\":\n",
    "            self.val = True\n",
    "        else:\n",
    "            raise RuntimeError(\"Not train-val-test\")\n",
    "\n",
    "\n",
    "        self.root = os.path.expanduser(root)\n",
    "        self.transform = transform\n",
    "        self.target_transform = target_transform\n",
    "\n",
    "        fpath = os.path.join(root, self.filename)\n",
    "        if not self._check_integrity():\n",
    "            raise RuntimeError('Dataset not found or corrupted.' +\n",
    "                               ' Download it and extract the file again.')\n",
    "\n",
    "        # now load the picked numpy arrays\n",
    "        if self.train or self.val:\n",
    "            self.train_data = []\n",
    "            self.train_labels = []\n",
    "            for fentry in self.train_list:\n",
    "                f = fentry[0]\n",
    "                file = os.path.join(self.root, self.base_folder, f)\n",
    "                fo = open(file, 'rb')\n",
    "                if sys.version_info[0] == 2:\n",
    "                    entry = pickle.load(fo)\n",
    "                else:\n",
    "                    entry = pickle.load(fo, encoding='latin1')\n",
    "                self.train_data.append(entry['data'])\n",
    "                if 'labels' in entry:\n",
    "                    self.train_labels += entry['labels']\n",
    "                else:\n",
    "                    self.train_labels += entry['fine_labels']\n",
    "                fo.close()\n",
    "\n",
    "            self.train_data = np.concatenate(self.train_data)\n",
    "            self.train_data = self.train_data.reshape((50000, 3, 32, 32))\n",
    "            self.train_data = self.train_data.transpose((0, 2, 3, 1))  # convert to HWC\n",
    "            \n",
    "            p = np.arange(0,50000,10)\n",
    "            mask_train = np.ones((50000,), dtype=bool)\n",
    "            mask_train[p] = False\n",
    "            mask_val = np.zeros((50000,), dtype=bool)\n",
    "            mask_val[p] = True\n",
    "\n",
    "            copy_all_data = np.array(self.train_data)\n",
    "            self.val_data = np.array(copy_all_data[mask_val])\n",
    "            self.train_data = np.array(copy_all_data[mask_train])\n",
    "            \n",
    "            copy_all_labels = np.array(self.train_labels)\n",
    "            self.val_labels = np.array(copy_all_labels[mask_val])\n",
    "            self.train_labels = np.array(copy_all_labels[mask_train])\n",
    "\n",
    "        elif self.test:\n",
    "            f = self.test_list[0][0]\n",
    "            file = os.path.join(self.root, self.base_folder, f)\n",
    "            fo = open(file, 'rb')\n",
    "            if sys.version_info[0] == 2:\n",
    "                entry = pickle.load(fo)\n",
    "            else:\n",
    "                entry = pickle.load(fo, encoding='latin1')\n",
    "            self.test_data = entry['data']\n",
    "\n",
    "            if 'labels' in entry:\n",
    "                self.test_labels = entry['labels']\n",
    "            else:\n",
    "                self.test_labels = entry['fine_labels']\n",
    "            fo.close()\n",
    "            self.test_data = self.test_data.reshape((10000, 3, 32, 32))\n",
    "            self.test_data = self.test_data.transpose((0, 2, 3, 1))  # convert to HWC\n",
    "\n",
    "    def __getitem__(self, index):\n",
    "        \"\"\"\n",
    "        Args:\n",
    "            index (int): Index\n",
    "\n",
    "        Returns:\n",
    "            tuple: (image, target) where target is index of the target class.\n",
    "        \"\"\"\n",
    "        if self.train:\n",
    "            img, target = self.train_data[index], self.train_labels[index]\n",
    "        elif self.test:\n",
    "            img, target = self.test_data[index], self.test_labels[index]\n",
    "        elif self.val:\n",
    "            img, target = self.val_data[index], self.val_labels[index]\n",
    "\n",
    "        # doing this so that it is consistent with all other datasets\n",
    "        # to return a PIL Image\n",
    "        img = Image.fromarray(img)\n",
    "\n",
    "        if self.transform is not None:\n",
    "            img = self.transform(img)\n",
    "\n",
    "        if self.target_transform is not None:\n",
    "            target = self.target_transform(target)\n",
    "\n",
    "        return img, target\n",
    "\n",
    "    def __len__(self):\n",
    "        if self.train:\n",
    "            return len(self.train_data)\n",
    "        elif self.test:\n",
    "            return len(self.test_data)\n",
    "        elif self.val:\n",
    "            return len(self.val_data)\n",
    "\n",
    "    def _check_integrity(self):\n",
    "        root = self.root\n",
    "        for fentry in (self.train_list + self.test_list):\n",
    "            filename, md5 = fentry[0], fentry[1]\n",
    "            fpath = os.path.join(root, self.base_folder, filename)\n",
    "            if not check_integrity(fpath, md5):\n",
    "                return False\n",
    "        return True\n",
    "\n",
    "    def __repr__(self):\n",
    "        fmt_str = 'Dataset ' + self.__class__.__name__ + '\\n'\n",
    "        fmt_str += '    Number of datapoints: {}\\n'.format(self.__len__())\n",
    "        tmp = 'train' if self.train is True else 'test'\n",
    "        fmt_str += '    Split: {}\\n'.format(tmp)\n",
    "        fmt_str += '    Root Location: {}\\n'.format(self.root)\n",
    "        tmp = '    Transforms (if any): '\n",
    "        fmt_str += '{0}{1}\\n'.format(tmp, self.transform.__repr__().replace('\\n', '\\n' + ' ' * len(tmp)))\n",
    "        tmp = '    Target Transforms (if any): '\n",
    "        fmt_str += '{0}{1}'.format(tmp, self.target_transform.__repr__().replace('\\n', '\\n' + ' ' * len(tmp)))\n",
    "        return fmt_str\n",
    "\n",
    "\n",
    "class CIFAR100_SFU_CV(CIFAR10_SFU_CV):\n",
    "    \"\"\"`CIFAR100 <https://www.cs.toronto.edu/~kriz/cifar.html>`_ Dataset.\n",
    "\n",
    "    This is a subclass of the `CIFAR10` Dataset.\n",
    "    \"\"\"\n",
    "    base_folder = 'cifar100'\n",
    "    filename = \"cifar100.tar.gz\"\n",
    "    tgz_md5 = 'e68a4c763591787a0b39fe2209371f32'\n",
    "    train_list = [\n",
    "        ['train_cs543', '49eee854445c1e2ebe796cd93c20bb0f'],\n",
    "    ]\n",
    "\n",
    "    test_list = [\n",
    "        ['test_cs543', 'd3fe9f6a9251bd443f428f896d27384f'],\n",
    "    ]"
   ]
  },
  {
   "cell_type": "markdown",
   "metadata": {
    "colab_type": "text",
    "id": "JpFMv7HtcII4"
   },
   "source": [
    "This file has been adapted from the easy-to-use tutorial released by PyTorch:\n",
    "http://pytorch.org/tutorials/beginner/blitz/cifar10_tutorial.html\n",
    "\n",
    "Training an image classifier\n",
    "----------------------------\n",
    "\n",
    "We will do the following steps in order:\n",
    "\n",
    "1. Load the CIFAR100_SFU_CV training, validation and test datasets using\n",
    "   torchvision. Use torchvision.transforms to apply transforms on the\n",
    "   dataset.\n",
    "2. Define a Convolution Neural Network - BaseNet\n",
    "3. Define a loss function and optimizer\n",
    "4. Train the network on training data and check performance on val set.\n",
    "   Plot train loss and validation accuracies.\n",
    "5. Try the network on test data and create .csv file for submission to kaggle"
   ]
  },
  {
   "cell_type": "code",
   "execution_count": 0,
   "metadata": {
    "colab": {},
    "colab_type": "code",
    "id": "Ld6juH34dWWq"
   },
   "outputs": [],
   "source": [
    "# <<TODO#5>> Based on the val set performance, decide how many\n",
    "# epochs are apt for your model.\n",
    "# ---------\n",
    "EPOCHS = 150\n",
    "# ---------\n",
    "\n",
    "IS_GPU = True\n",
    "TEST_BS = 64\n",
    "TOTAL_CLASSES = 100\n",
    "TRAIN_BS = 32\n",
    "PATH_TO_CIFAR100_SFU_CV = \"/data/\""
   ]
  },
  {
   "cell_type": "code",
   "execution_count": 0,
   "metadata": {
    "colab": {
     "base_uri": "https://localhost:8080/",
     "height": 34
    },
    "colab_type": "code",
    "id": "0ENlTTMi-qFD",
    "outputId": "3bfc43f5-c18e-4604-84fa-ba2ff2d163db"
   },
   "outputs": [
    {
     "name": "stdout",
     "output_type": "stream",
     "text": [
      "test_cs543  train_cs543\n"
     ]
    }
   ],
   "source": [
    "ls /data/cifar100/"
   ]
  },
  {
   "cell_type": "code",
   "execution_count": 0,
   "metadata": {
    "colab": {},
    "colab_type": "code",
    "id": "d57CSAj1dfix"
   },
   "outputs": [],
   "source": [
    "def calculate_val_accuracy(valloader, is_gpu):\n",
    "    \"\"\" Util function to calculate val set accuracy,\n",
    "    both overall and per class accuracy\n",
    "    Args:\n",
    "        valloader (torch.utils.data.DataLoader): val set \n",
    "        is_gpu (bool): whether to run on GPU\n",
    "    Returns:\n",
    "        tuple: (overall accuracy, class level accuracy)\n",
    "    \"\"\"    \n",
    "    correct = 0.\n",
    "    total = 0.\n",
    "    predictions = []\n",
    "\n",
    "    class_correct = list(0. for i in range(TOTAL_CLASSES))\n",
    "    class_total = list(0. for i in range(TOTAL_CLASSES))\n",
    "\n",
    "    for data in valloader:\n",
    "        images, labels = data\n",
    "        if is_gpu:\n",
    "            images = images.cuda()\n",
    "            labels = labels.cuda()\n",
    "        outputs = net(Variable(images))\n",
    "        _, predicted = torch.max(outputs.data, 1)\n",
    "        predictions.extend(list(predicted.cpu().numpy()))\n",
    "        total += labels.size(0)\n",
    "        correct += (predicted == labels).sum()\n",
    "\n",
    "        c = (predicted == labels).squeeze()\n",
    "        for i in range(len(labels)):\n",
    "            label = labels[i]\n",
    "            class_correct[label] += c[i]\n",
    "            class_total[label] += 1\n",
    "\n",
    "    class_accuracy = 100 * np.divide(class_correct, class_total)\n",
    "    return 100*correct/total, class_accuracy"
   ]
  },
  {
   "cell_type": "markdown",
   "metadata": {
    "colab_type": "text",
    "id": "aq2qOUaJeAWJ"
   },
   "source": [
    "1.** Loading CIFAR100_SFU_CV**\n",
    "\n",
    "We modify the dataset to create CIFAR100_SFU_CV dataset which consist of 45000 training images (450 of each class), 5000 validation images (50 of each class) and 10000 test images (100 of each class). The train and val datasets have labels while all the labels in the test set are set to 0.\n"
   ]
  },
  {
   "cell_type": "code",
   "execution_count": 0,
   "metadata": {
    "colab": {
     "base_uri": "https://localhost:8080/",
     "height": 69
    },
    "colab_type": "code",
    "id": "C2UcDZmtdfq3",
    "outputId": "e4738307-ea9c-4d4a-fa0b-bedf1bf5c741"
   },
   "outputs": [
    {
     "name": "stdout",
     "output_type": "stream",
     "text": [
      "Train set size: 45000\n",
      "Val set size: 5000\n",
      "Test set size: 10000\n"
     ]
    }
   ],
   "source": [
    "# The output of torchvision datasets are PILImage images of range [0, 1].\n",
    "# Using transforms.ToTensor(), transform them to Tensors of normalized range\n",
    "# [-1, 1].\n",
    "\n",
    "\n",
    "# <<TODO#1>> Use transforms.Normalize() with the right parameters to \n",
    "# make the data well conditioned (zero mean, std dev=1) for improved training.\n",
    "# <<TODO#2>> Try using transforms.RandomCrop() and/or transforms.RandomHorizontalFlip()\n",
    "# to augment training data.\n",
    "# After your edits, make sure that test_transform should have the same data\n",
    "# normalization parameters as train_transform\n",
    "# You shouldn't have any data augmentation in test_transform (val or test data is never augmented).\n",
    "# ---------------------\n",
    "\n",
    "train_transform = transforms.Compose([transforms.RandomCrop(32, padding=4),\n",
    "                                     transforms.RandomHorizontalFlip(),\n",
    "                                     transforms.ToTensor(),\n",
    "                                     transforms.Normalize([0.4914, 0.4822, 0.4465], \n",
    "                                                          [0.2023, 0.1994, 0.2010])])\n",
    "test_transform = transforms.Compose([transforms.ToTensor(),\n",
    "                                     transforms.Normalize([0.4914, 0.4822, 0.4465],\n",
    "                                                          [0.2023, 0.1994, 0.2010])])\n",
    "# ---------------------\n",
    "\n",
    "trainset = CIFAR100_SFU_CV(root=PATH_TO_CIFAR100_SFU_CV, fold=\"train\",\n",
    "                                        download=True, transform=train_transform)\n",
    "trainloader = torch.utils.data.DataLoader(trainset, batch_size=TRAIN_BS,\n",
    "                                          shuffle=True, num_workers=2)\n",
    "print(\"Train set size: \"+str(len(trainset)))\n",
    "\n",
    "valset = CIFAR100_SFU_CV(root=PATH_TO_CIFAR100_SFU_CV, fold=\"val\",\n",
    "                                       download=True, transform=test_transform)\n",
    "valloader = torch.utils.data.DataLoader(valset, batch_size=TEST_BS,\n",
    "                                         shuffle=False, num_workers=2)\n",
    "print(\"Val set size: \"+str(len(valset)))\n",
    "\n",
    "testset = CIFAR100_SFU_CV(root=PATH_TO_CIFAR100_SFU_CV, fold=\"test\",\n",
    "                                       download=True, transform=test_transform)\n",
    "testloader = torch.utils.data.DataLoader(testset, batch_size=TEST_BS,\n",
    "                                         shuffle=False, num_workers=2)\n",
    "print(\"Test set size: \"+str(len(testset)))\n",
    "\n",
    "# The 100 classes for CIFAR100\n",
    "classes = ['apple', 'aquarium_fish', 'baby', 'bear', 'beaver', 'bed', 'bee', 'beetle', 'bicycle', 'bottle', 'bowl', 'boy', 'bridge', 'bus', 'butterfly', 'camel', 'can', 'castle', 'caterpillar', 'cattle', 'chair', 'chimpanzee', 'clock', 'cloud', 'cockroach', 'couch', 'crab', 'crocodile', 'cup', 'dinosaur', 'dolphin', 'elephant', 'flatfish', 'forest', 'fox', 'girl', 'hamster', 'house', 'kangaroo', 'keyboard', 'lamp', 'lawn_mower', 'leopard', 'lion', 'lizard', 'lobster', 'man', 'maple_tree', 'motorcycle', 'mountain', 'mouse', 'mushroom', 'oak_tree', 'orange', 'orchid', 'otter', 'palm_tree', 'pear', 'pickup_truck', 'pine_tree', 'plain', 'plate', 'poppy', 'porcupine', 'possum', 'rabbit', 'raccoon', 'ray', 'road', 'rocket', 'rose', 'sea', 'seal', 'shark', 'shrew', 'skunk', 'skyscraper', 'snail', 'snake', 'spider', 'squirrel', 'streetcar', 'sunflower', 'sweet_pepper', 'table', 'tank', 'telephone', 'television', 'tiger', 'tractor', 'train', 'trout', 'tulip', 'turtle', 'wardrobe', 'whale', 'willow_tree', 'wolf', 'woman', 'worm']\n",
    "\n"
   ]
  },
  {
   "cell_type": "code",
   "execution_count": 0,
   "metadata": {
    "colab": {
     "base_uri": "https://localhost:8080/",
     "height": 1000
    },
    "colab_type": "code",
    "id": "5b_fBznndp4W",
    "outputId": "2524e409-2b5b-49da-e9a8-fd41524f7060"
   },
   "outputs": [
    {
     "name": "stdout",
     "output_type": "stream",
     "text": [
      "BaseNet(\n",
      "  (conv_layer): Sequential(\n",
      "    (0): Conv2d(3, 64, kernel_size=(3, 3), stride=(1, 1), padding=(1, 1))\n",
      "    (1): BatchNorm2d(64, eps=1e-05, momentum=0.1, affine=True, track_running_stats=True)\n",
      "    (2): ReLU(inplace=True)\n",
      "    (3): Conv2d(64, 64, kernel_size=(3, 3), stride=(1, 1), padding=(1, 1))\n",
      "    (4): BatchNorm2d(64, eps=1e-05, momentum=0.1, affine=True, track_running_stats=True)\n",
      "    (5): ReLU(inplace=True)\n",
      "    (6): MaxPool2d(kernel_size=2, stride=2, padding=0, dilation=1, ceil_mode=False)\n",
      "    (7): Conv2d(64, 128, kernel_size=(3, 3), stride=(1, 1), padding=(1, 1))\n",
      "    (8): BatchNorm2d(128, eps=1e-05, momentum=0.1, affine=True, track_running_stats=True)\n",
      "    (9): ReLU(inplace=True)\n",
      "    (10): Conv2d(128, 128, kernel_size=(3, 3), stride=(1, 1), padding=(1, 1))\n",
      "    (11): BatchNorm2d(128, eps=1e-05, momentum=0.1, affine=True, track_running_stats=True)\n",
      "    (12): ReLU(inplace=True)\n",
      "    (13): MaxPool2d(kernel_size=2, stride=2, padding=0, dilation=1, ceil_mode=False)\n",
      "    (14): Conv2d(128, 256, kernel_size=(3, 3), stride=(1, 1), padding=(1, 1))\n",
      "    (15): BatchNorm2d(256, eps=1e-05, momentum=0.1, affine=True, track_running_stats=True)\n",
      "    (16): ReLU(inplace=True)\n",
      "    (17): Conv2d(256, 256, kernel_size=(3, 3), stride=(1, 1), padding=(1, 1))\n",
      "    (18): BatchNorm2d(256, eps=1e-05, momentum=0.1, affine=True, track_running_stats=True)\n",
      "    (19): ReLU(inplace=True)\n",
      "    (20): Conv2d(256, 256, kernel_size=(3, 3), stride=(1, 1), padding=(1, 1))\n",
      "    (21): BatchNorm2d(256, eps=1e-05, momentum=0.1, affine=True, track_running_stats=True)\n",
      "    (22): ReLU(inplace=True)\n",
      "    (23): MaxPool2d(kernel_size=2, stride=2, padding=0, dilation=1, ceil_mode=False)\n",
      "    (24): Conv2d(256, 512, kernel_size=(3, 3), stride=(1, 1), padding=(1, 1))\n",
      "    (25): BatchNorm2d(512, eps=1e-05, momentum=0.1, affine=True, track_running_stats=True)\n",
      "    (26): ReLU(inplace=True)\n",
      "    (27): Conv2d(512, 512, kernel_size=(3, 3), stride=(1, 1), padding=(1, 1))\n",
      "    (28): BatchNorm2d(512, eps=1e-05, momentum=0.1, affine=True, track_running_stats=True)\n",
      "    (29): ReLU(inplace=True)\n",
      "    (30): Conv2d(512, 512, kernel_size=(3, 3), stride=(1, 1), padding=(1, 1))\n",
      "    (31): BatchNorm2d(512, eps=1e-05, momentum=0.1, affine=True, track_running_stats=True)\n",
      "    (32): ReLU(inplace=True)\n",
      "    (33): MaxPool2d(kernel_size=2, stride=2, padding=0, dilation=1, ceil_mode=False)\n",
      "    (34): Conv2d(512, 1024, kernel_size=(3, 3), stride=(1, 1), padding=(1, 1))\n",
      "    (35): BatchNorm2d(1024, eps=1e-05, momentum=0.1, affine=True, track_running_stats=True)\n",
      "    (36): ReLU(inplace=True)\n",
      "    (37): Conv2d(1024, 1024, kernel_size=(3, 3), stride=(1, 1), padding=(1, 1))\n",
      "    (38): BatchNorm2d(1024, eps=1e-05, momentum=0.1, affine=True, track_running_stats=True)\n",
      "    (39): ReLU(inplace=True)\n",
      "    (40): Conv2d(1024, 1024, kernel_size=(3, 3), stride=(1, 1), padding=(1, 1))\n",
      "    (41): BatchNorm2d(1024, eps=1e-05, momentum=0.1, affine=True, track_running_stats=True)\n",
      "    (42): ReLU(inplace=True)\n",
      "    (43): MaxPool2d(kernel_size=2, stride=2, padding=0, dilation=1, ceil_mode=False)\n",
      "  )\n",
      "  (fc_layer): Sequential(\n",
      "    (0): Dropout(p=0.5, inplace=False)\n",
      "    (1): Linear(in_features=1024, out_features=512, bias=True)\n",
      "    (2): BatchNorm1d(512, eps=1e-05, momentum=0.1, affine=True, track_running_stats=True)\n",
      "    (3): ReLU(inplace=True)\n",
      "    (4): Dropout(p=0.5, inplace=False)\n",
      "    (5): Linear(in_features=512, out_features=512, bias=True)\n",
      "    (6): BatchNorm1d(512, eps=1e-05, momentum=0.1, affine=True, track_running_stats=True)\n",
      "    (7): ReLU(inplace=True)\n",
      "    (8): Linear(in_features=512, out_features=100, bias=True)\n",
      "  )\n",
      ")\n"
     ]
    }
   ],
   "source": [
    "########################################################################\n",
    "# 2. Define a Convolution Neural Network\n",
    "# ^^^^^^^^^^^^^^^^^^^^^^^^^^^^^^^^^^^^^^\n",
    "# We provide a basic network that you should understand, run and\n",
    "# eventually improve\n",
    "# <<TODO>> Add more conv layers\n",
    "# <<TODO>> Add more fully connected (fc) layers\n",
    "# <<TODO>> Add regularization layers like Batchnorm.\n",
    "#          nn.BatchNorm2d after conv layers:\n",
    "#          http://pytorch.org/docs/master/nn.html#batchnorm2d\n",
    "#          nn.BatchNorm1d after fc layers:\n",
    "#          http://pytorch.org/docs/master/nn.html#batchnorm1d\n",
    "# This is a good resource for developing a CNN for classification:\n",
    "# http://cs231n.github.io/convolutional-networks/#layers\n",
    "\n",
    "import torch.nn as nn\n",
    "import torch.nn.functional as F\n",
    "\n",
    "class BaseNet(nn.Module):\n",
    "    def __init__(self):\n",
    "        super(BaseNet, self).__init__()\n",
    "        \n",
    "        # <<TODO#3>> Add more conv layers with increasing \n",
    "        # output channels\n",
    "        # <<TODO#4>> Add normalization layers after conv\n",
    "        # layers (nn.BatchNorm2d)\n",
    "\n",
    "        # Also experiment with kernel size in conv2d layers (say 3\n",
    "        # inspired from VGGNet)\n",
    "        # To keep it simple, keep the same kernel size\n",
    "        # (right now set to 5) in all conv layers.\n",
    "        # Do not have a maxpool layer after every conv layer in your\n",
    "        # deeper network as it leads to too much loss of information.\n",
    "\n",
    "        # self.conv1 = nn.Conv2d(in_channels=3,out_channels=12,kernel_size=3, padding=1)\n",
    "        # self.bn1 = nn.BatchNorm2d(12)\n",
    "        # self.pool = nn.MaxPool2d(2, 2)\n",
    "        # self.conv2 = nn.Conv2d(in_channels=12,out_channels=24,kernel_size=3,padding=1)\n",
    "        # self.bn2 = nn.BatchNorm2d(24)\n",
    "\n",
    "        # self.conv3 = nn.Conv2d(in_channels=24,out_channels=48,kernel_size=3,padding=1)\n",
    "        # self.bn3 = nn.BatchNorm2d(48)\n",
    "\n",
    "        # self.conv4 = nn.Conv2d(in_channels=48,out_channels=96,kernel_size=3,padding=1)\n",
    "        # self.bn4 = nn.BatchNorm2d(96)\n",
    "\n",
    "        self.conv_layer = nn.Sequential(\n",
    "\n",
    "            # Conv Layer block 1\n",
    "            nn.Conv2d(in_channels=3, out_channels=64, kernel_size=3, padding=1),\n",
    "            nn.BatchNorm2d(64),\n",
    "            nn.ReLU(inplace=True),\n",
    "            nn.Conv2d(in_channels=64, out_channels=64, kernel_size=3, padding=1),\n",
    "            nn.BatchNorm2d(64),\n",
    "            nn.ReLU(inplace=True),\n",
    "            nn.MaxPool2d(kernel_size=2, stride=2),\n",
    "\n",
    "            # Conv Layer block 2\n",
    "            nn.Conv2d(in_channels=64, out_channels=128, kernel_size=3, padding=1),\n",
    "            nn.BatchNorm2d(128),\n",
    "            nn.ReLU(inplace=True),\n",
    "            nn.Conv2d(in_channels=128, out_channels=128, kernel_size=3, padding=1),\n",
    "            nn.BatchNorm2d(128),\n",
    "            nn.ReLU(inplace=True),\n",
    "            nn.MaxPool2d(kernel_size=2, stride=2),\n",
    "\n",
    "            # Conv Layer block 3\n",
    "            nn.Conv2d(in_channels=128, out_channels=256, kernel_size=3, padding=1),\n",
    "            nn.BatchNorm2d(256),\n",
    "            nn.ReLU(inplace=True),\n",
    "            nn.Conv2d(in_channels=256, out_channels=256, kernel_size=3, padding=1),\n",
    "            nn.BatchNorm2d(256),\n",
    "            nn.ReLU(inplace=True),\n",
    "            nn.Conv2d(in_channels=256, out_channels=256, kernel_size=3, padding=1),\n",
    "            nn.BatchNorm2d(256),\n",
    "            nn.ReLU(inplace=True),\n",
    "            nn.MaxPool2d(kernel_size=2, stride=2),\n",
    "\n",
    "            # Conv Layer 4\n",
    "            nn.Conv2d(in_channels=256, out_channels=512, kernel_size=3, padding=1),\n",
    "            nn.BatchNorm2d(512),\n",
    "            nn.ReLU(inplace=True),\n",
    "            nn.Conv2d(in_channels=512, out_channels=512, kernel_size=3, padding=1),\n",
    "            nn.BatchNorm2d(512),\n",
    "            nn.ReLU(inplace=True),\n",
    "            nn.Conv2d(in_channels=512, out_channels=512, kernel_size=3, padding=1),\n",
    "            nn.BatchNorm2d(512),\n",
    "            nn.ReLU(inplace=True),\n",
    "            nn.MaxPool2d(kernel_size=2, stride=2),\n",
    "\n",
    "            # Conv Layer 5\n",
    "            nn.Conv2d(in_channels=512, out_channels=1024, kernel_size=3, padding=1),\n",
    "            nn.BatchNorm2d(1024),\n",
    "            nn.ReLU(inplace=True),\n",
    "            nn.Conv2d(in_channels=1024, out_channels=1024, kernel_size=3, padding=1),\n",
    "            nn.BatchNorm2d(1024),\n",
    "            nn.ReLU(inplace=True),\n",
    "            nn.Conv2d(in_channels=1024, out_channels=1024, kernel_size=3, padding=1),\n",
    "            nn.BatchNorm2d(1024),\n",
    "            nn.ReLU(inplace=True),\n",
    "            nn.MaxPool2d(kernel_size=2, stride=2),\n",
    "\n",
    "        )\n",
    "\n",
    "\n",
    "        # <<TODO#3>> Add more linear (fc) layers\n",
    "        # <<TODO#4>> Add normalization layers after linear and\n",
    "        # experiment inserting them before or after ReLU (nn.BatchNorm1d)\n",
    "        # More on nn.sequential:\n",
    "        # http://pytorch.org/docs/master/nn.html#torch.nn.Sequential\n",
    "        \n",
    "\n",
    "        self.fc_layer = nn.Sequential(\n",
    "            nn.Dropout(),\n",
    "            nn.Linear(1024, 512),\n",
    "            nn.BatchNorm1d(512),\n",
    "            nn.ReLU(inplace=True),\n",
    "            nn.Dropout(),\n",
    "            nn.Linear(512, 512),\n",
    "            nn.BatchNorm1d(512),\n",
    "            nn.ReLU(inplace=True),\n",
    "            nn.Linear(512, 100)\n",
    "        )\n",
    "\n",
    "    def forward(self, x):\n",
    "\n",
    "        # <<TODO#3&#4>> Based on the above edits, you'll have\n",
    "        # to edit the forward pass description here.\n",
    "\n",
    "        # x = self.pool(F.relu(self.bn1(self.conv1(x))))\n",
    "        # # Output size = 16 x 16\n",
    "\n",
    "        # x = self.pool(F.relu(self.bn2(self.conv2(x))))\n",
    "        # # Output size = 8 x 8\n",
    "\n",
    "        # x = self.pool(F.relu(self.bn3(self.conv3(x))))\n",
    "        # # Output size = 4 x 4\n",
    "\n",
    "        # x = (F.relu(self.bn4(self.conv4(x)))) \n",
    "        # # Output size = 4 x 4\n",
    "\n",
    "        # # print(x.shape)\n",
    "        # # See the CS231 link to understand why this is 16*5*5!\n",
    "        # # This will help you design your own deeper network\n",
    "        # x = x.view(-1, 4 * 4 * 96)\n",
    "        # x = self.fc_net(x)\n",
    "\n",
    "        # conv layers\n",
    "        x = self.conv_layer(x)\n",
    "        \n",
    "        # flatten\n",
    "        x = x.view(x.size(0), -1)\n",
    "        \n",
    "        # fc layer\n",
    "        x = self.fc_layer(x)\n",
    "\n",
    "        # No softmax is needed as the loss function in step 3\n",
    "        # takes care of that\n",
    "        \n",
    "        return x\n",
    "\n",
    "# Create an instance of the nn.module class defined above:\n",
    "net = BaseNet()\n",
    "\n",
    "# For training on GPU, we need to transfer net and data onto the GPU\n",
    "# http://pytorch.org/tutorials/beginner/blitz/cifar10_tutorial.html#training-on-gpu\n",
    "if IS_GPU:\n",
    "    net = net.cuda()\n",
    "\n",
    "print(net)\n"
   ]
  },
  {
   "cell_type": "code",
   "execution_count": 0,
   "metadata": {
    "colab": {},
    "colab_type": "code",
    "id": "zAZjIcLOdp-W"
   },
   "outputs": [],
   "source": [
    "########################################################################\n",
    "# 3. Define a Loss function and optimizer\n",
    "# ^^^^^^^^^^^^^^^^^^^^^^^^^^^^^^^^^^^^^^^\n",
    "# Here we use Cross-Entropy loss and SGD with momentum.\n",
    "# The CrossEntropyLoss criterion already includes softmax within its\n",
    "# implementation. That's why we don't use a softmax in our model\n",
    "# definition.\n",
    "\n",
    "import torch.optim as optim\n",
    "criterion = nn.CrossEntropyLoss()\n",
    "\n",
    "# Tune the learning rate.\n",
    "# See whether the momentum is useful or not\n",
    "criterion = nn.CrossEntropyLoss()\n",
    "# optimizer = optim.Adam(net.parameters(), lr=0.01, weight_decay=5e-4)\n",
    "optimizer = optim.SGD(net.parameters(), lr=0.01,\n",
    "                      momentum=0.9, weight_decay=5e-4)\n",
    "\n",
    "\n",
    "plt.ioff()\n",
    "fig = plt.figure()\n",
    "train_loss_over_epochs = []\n",
    "val_accuracy_over_epochs = []\n"
   ]
  },
  {
   "cell_type": "code",
   "execution_count": 0,
   "metadata": {
    "colab": {
     "base_uri": "https://localhost:8080/",
     "height": 1000
    },
    "colab_type": "code",
    "id": "Ku7eF366dyUP",
    "outputId": "1af3f6df-1d40-4af2-dfd6-9aa35844f0b9"
   },
   "outputs": [
    {
     "name": "stdout",
     "output_type": "stream",
     "text": [
      "[1] loss: 4.362\n",
      "Accuracy of the network on the val images: 2 %\n",
      "[2] loss: 4.162\n",
      "Accuracy of the network on the val images: 5 %\n",
      "[3] loss: 3.987\n",
      "Accuracy of the network on the val images: 8 %\n",
      "[4] loss: 3.808\n",
      "Accuracy of the network on the val images: 10 %\n",
      "[5] loss: 3.600\n",
      "Accuracy of the network on the val images: 13 %\n",
      "[6] loss: 3.456\n",
      "Accuracy of the network on the val images: 14 %\n",
      "[7] loss: 3.274\n",
      "Accuracy of the network on the val images: 18 %\n",
      "[8] loss: 3.064\n",
      "Accuracy of the network on the val images: 22 %\n",
      "[9] loss: 2.887\n",
      "Accuracy of the network on the val images: 25 %\n",
      "[10] loss: 2.755\n",
      "Accuracy of the network on the val images: 27 %\n",
      "[11] loss: 2.651\n",
      "Accuracy of the network on the val images: 30 %\n",
      "[12] loss: 2.562\n",
      "Accuracy of the network on the val images: 33 %\n",
      "[13] loss: 2.492\n",
      "Accuracy of the network on the val images: 34 %\n",
      "[14] loss: 2.427\n",
      "Accuracy of the network on the val images: 35 %\n",
      "[15] loss: 2.360\n",
      "Accuracy of the network on the val images: 37 %\n",
      "[16] loss: 2.297\n",
      "Accuracy of the network on the val images: 37 %\n",
      "[17] loss: 2.259\n",
      "Accuracy of the network on the val images: 37 %\n",
      "[18] loss: 2.212\n",
      "Accuracy of the network on the val images: 39 %\n",
      "[19] loss: 2.165\n",
      "Accuracy of the network on the val images: 39 %\n",
      "[20] loss: 2.121\n",
      "Accuracy of the network on the val images: 42 %\n",
      "[21] loss: 2.070\n",
      "Accuracy of the network on the val images: 43 %\n",
      "[22] loss: 2.015\n",
      "Accuracy of the network on the val images: 43 %\n",
      "[23] loss: 1.978\n",
      "Accuracy of the network on the val images: 44 %\n",
      "[24] loss: 1.941\n",
      "Accuracy of the network on the val images: 45 %\n",
      "[25] loss: 1.911\n",
      "Accuracy of the network on the val images: 45 %\n",
      "[26] loss: 1.870\n",
      "Accuracy of the network on the val images: 47 %\n",
      "[27] loss: 1.851\n",
      "Accuracy of the network on the val images: 48 %\n",
      "[28] loss: 1.824\n",
      "Accuracy of the network on the val images: 49 %\n",
      "[29] loss: 1.796\n",
      "Accuracy of the network on the val images: 47 %\n",
      "[30] loss: 1.761\n",
      "Accuracy of the network on the val images: 49 %\n",
      "[31] loss: 1.734\n",
      "Accuracy of the network on the val images: 50 %\n",
      "[32] loss: 1.703\n",
      "Accuracy of the network on the val images: 50 %\n",
      "[33] loss: 1.669\n",
      "Accuracy of the network on the val images: 51 %\n",
      "[34] loss: 1.639\n",
      "Accuracy of the network on the val images: 50 %\n",
      "[35] loss: 1.591\n",
      "Accuracy of the network on the val images: 52 %\n",
      "[36] loss: 1.573\n",
      "Accuracy of the network on the val images: 52 %\n",
      "[37] loss: 1.549\n",
      "Accuracy of the network on the val images: 52 %\n",
      "[38] loss: 1.541\n",
      "Accuracy of the network on the val images: 53 %\n",
      "[39] loss: 1.504\n",
      "Accuracy of the network on the val images: 54 %\n",
      "[40] loss: 1.496\n",
      "Accuracy of the network on the val images: 54 %\n",
      "[41] loss: 1.465\n",
      "Accuracy of the network on the val images: 54 %\n",
      "[42] loss: 1.450\n",
      "Accuracy of the network on the val images: 55 %\n",
      "[43] loss: 1.434\n",
      "Accuracy of the network on the val images: 57 %\n",
      "[44] loss: 1.409\n",
      "Accuracy of the network on the val images: 54 %\n",
      "[45] loss: 1.398\n",
      "Accuracy of the network on the val images: 55 %\n",
      "[46] loss: 1.390\n",
      "Accuracy of the network on the val images: 56 %\n",
      "[47] loss: 1.378\n",
      "Accuracy of the network on the val images: 55 %\n",
      "[48] loss: 1.350\n",
      "Accuracy of the network on the val images: 56 %\n",
      "[49] loss: 1.349\n",
      "Accuracy of the network on the val images: 56 %\n",
      "[50] loss: 1.330\n",
      "Accuracy of the network on the val images: 57 %\n",
      "[51] loss: 1.330\n",
      "Accuracy of the network on the val images: 55 %\n",
      "[52] loss: 1.305\n",
      "Accuracy of the network on the val images: 56 %\n",
      "[53] loss: 1.301\n",
      "Accuracy of the network on the val images: 57 %\n",
      "[54] loss: 1.282\n",
      "Accuracy of the network on the val images: 57 %\n",
      "[55] loss: 1.285\n",
      "Accuracy of the network on the val images: 58 %\n",
      "[56] loss: 1.269\n",
      "Accuracy of the network on the val images: 58 %\n",
      "[57] loss: 1.259\n",
      "Accuracy of the network on the val images: 54 %\n",
      "[58] loss: 1.269\n",
      "Accuracy of the network on the val images: 56 %\n",
      "[59] loss: 1.247\n",
      "Accuracy of the network on the val images: 57 %\n",
      "[60] loss: 1.239\n",
      "Accuracy of the network on the val images: 57 %\n",
      "[61] loss: 1.231\n",
      "Accuracy of the network on the val images: 57 %\n",
      "[62] loss: 1.215\n",
      "Accuracy of the network on the val images: 56 %\n",
      "[63] loss: 1.216\n",
      "Accuracy of the network on the val images: 59 %\n",
      "[64] loss: 1.204\n",
      "Accuracy of the network on the val images: 58 %\n",
      "[65] loss: 1.202\n",
      "Accuracy of the network on the val images: 58 %\n",
      "[66] loss: 1.188\n",
      "Accuracy of the network on the val images: 59 %\n",
      "[67] loss: 1.183\n",
      "Accuracy of the network on the val images: 59 %\n",
      "[68] loss: 1.195\n",
      "Accuracy of the network on the val images: 58 %\n",
      "[69] loss: 1.188\n",
      "Accuracy of the network on the val images: 59 %\n",
      "[70] loss: 1.185\n",
      "Accuracy of the network on the val images: 59 %\n",
      "[71] loss: 1.166\n",
      "Accuracy of the network on the val images: 58 %\n",
      "[72] loss: 1.173\n",
      "Accuracy of the network on the val images: 58 %\n",
      "[73] loss: 1.161\n",
      "Accuracy of the network on the val images: 58 %\n",
      "[74] loss: 1.159\n",
      "Accuracy of the network on the val images: 57 %\n",
      "[75] loss: 1.154\n",
      "Accuracy of the network on the val images: 59 %\n",
      "[76] loss: 1.151\n",
      "Accuracy of the network on the val images: 58 %\n",
      "[77] loss: 1.139\n",
      "Accuracy of the network on the val images: 58 %\n",
      "[78] loss: 1.145\n",
      "Accuracy of the network on the val images: 58 %\n",
      "[79] loss: 1.139\n",
      "Accuracy of the network on the val images: 59 %\n",
      "[80] loss: 1.133\n",
      "Accuracy of the network on the val images: 59 %\n",
      "[81] loss: 1.127\n",
      "Accuracy of the network on the val images: 58 %\n",
      "[82] loss: 1.123\n",
      "Accuracy of the network on the val images: 58 %\n",
      "[83] loss: 1.115\n",
      "Accuracy of the network on the val images: 59 %\n",
      "[84] loss: 1.118\n",
      "Accuracy of the network on the val images: 59 %\n",
      "[85] loss: 1.099\n",
      "Accuracy of the network on the val images: 58 %\n",
      "[86] loss: 1.127\n",
      "Accuracy of the network on the val images: 58 %\n",
      "[87] loss: 1.119\n",
      "Accuracy of the network on the val images: 58 %\n",
      "[88] loss: 1.104\n",
      "Accuracy of the network on the val images: 58 %\n",
      "[89] loss: 1.101\n",
      "Accuracy of the network on the val images: 58 %\n",
      "[90] loss: 1.094\n",
      "Accuracy of the network on the val images: 59 %\n",
      "[91] loss: 1.092\n",
      "Accuracy of the network on the val images: 58 %\n",
      "[92] loss: 1.098\n",
      "Accuracy of the network on the val images: 59 %\n",
      "[93] loss: 1.073\n",
      "Accuracy of the network on the val images: 58 %\n",
      "[94] loss: 1.079\n",
      "Accuracy of the network on the val images: 59 %\n",
      "[95] loss: 1.085\n",
      "Accuracy of the network on the val images: 59 %\n",
      "[96] loss: 1.086\n",
      "Accuracy of the network on the val images: 59 %\n",
      "[97] loss: 1.090\n",
      "Accuracy of the network on the val images: 58 %\n",
      "[98] loss: 1.077\n",
      "Accuracy of the network on the val images: 60 %\n",
      "[99] loss: 1.071\n",
      "Accuracy of the network on the val images: 60 %\n",
      "[100] loss: 1.064\n",
      "Accuracy of the network on the val images: 59 %\n",
      "[101] loss: 1.082\n",
      "Accuracy of the network on the val images: 60 %\n",
      "[102] loss: 1.060\n",
      "Accuracy of the network on the val images: 59 %\n",
      "[103] loss: 1.065\n",
      "Accuracy of the network on the val images: 58 %\n",
      "[104] loss: 1.063\n",
      "Accuracy of the network on the val images: 59 %\n",
      "[105] loss: 1.050\n",
      "Accuracy of the network on the val images: 60 %\n",
      "[106] loss: 1.057\n",
      "Accuracy of the network on the val images: 59 %\n",
      "[107] loss: 1.052\n",
      "Accuracy of the network on the val images: 60 %\n",
      "[108] loss: 1.049\n",
      "Accuracy of the network on the val images: 59 %\n",
      "[109] loss: 1.041\n",
      "Accuracy of the network on the val images: 59 %\n",
      "[110] loss: 1.039\n",
      "Accuracy of the network on the val images: 57 %\n",
      "[111] loss: 1.051\n",
      "Accuracy of the network on the val images: 59 %\n",
      "[112] loss: 1.045\n",
      "Accuracy of the network on the val images: 59 %\n",
      "[113] loss: 1.060\n",
      "Accuracy of the network on the val images: 60 %\n",
      "[114] loss: 1.042\n",
      "Accuracy of the network on the val images: 58 %\n",
      "[115] loss: 1.026\n",
      "Accuracy of the network on the val images: 60 %\n",
      "[116] loss: 1.042\n",
      "Accuracy of the network on the val images: 61 %\n",
      "[117] loss: 1.032\n",
      "Accuracy of the network on the val images: 60 %\n",
      "[118] loss: 1.035\n",
      "Accuracy of the network on the val images: 60 %\n",
      "[119] loss: 1.029\n",
      "Accuracy of the network on the val images: 60 %\n",
      "[120] loss: 1.050\n",
      "Accuracy of the network on the val images: 59 %\n",
      "[121] loss: 1.047\n",
      "Accuracy of the network on the val images: 59 %\n",
      "[122] loss: 1.029\n",
      "Accuracy of the network on the val images: 61 %\n",
      "[123] loss: 1.026\n",
      "Accuracy of the network on the val images: 60 %\n",
      "[124] loss: 1.028\n",
      "Accuracy of the network on the val images: 59 %\n",
      "[125] loss: 1.028\n",
      "Accuracy of the network on the val images: 60 %\n",
      "[126] loss: 1.018\n",
      "Accuracy of the network on the val images: 59 %\n",
      "[127] loss: 1.022\n",
      "Accuracy of the network on the val images: 59 %\n",
      "[128] loss: 1.016\n",
      "Accuracy of the network on the val images: 61 %\n",
      "[129] loss: 1.014\n",
      "Accuracy of the network on the val images: 59 %\n",
      "[130] loss: 1.005\n",
      "Accuracy of the network on the val images: 61 %\n",
      "[131] loss: 1.001\n",
      "Accuracy of the network on the val images: 59 %\n",
      "[132] loss: 1.017\n",
      "Accuracy of the network on the val images: 59 %\n",
      "[133] loss: 1.006\n",
      "Accuracy of the network on the val images: 59 %\n",
      "[134] loss: 1.001\n",
      "Accuracy of the network on the val images: 60 %\n",
      "[135] loss: 1.005\n",
      "Accuracy of the network on the val images: 60 %\n",
      "[136] loss: 1.016\n",
      "Accuracy of the network on the val images: 59 %\n",
      "[137] loss: 0.991\n",
      "Accuracy of the network on the val images: 59 %\n",
      "[138] loss: 1.016\n",
      "Accuracy of the network on the val images: 60 %\n",
      "[139] loss: 1.010\n",
      "Accuracy of the network on the val images: 60 %\n",
      "[140] loss: 0.995\n",
      "Accuracy of the network on the val images: 60 %\n",
      "[141] loss: 0.993\n",
      "Accuracy of the network on the val images: 61 %\n",
      "[142] loss: 0.998\n",
      "Accuracy of the network on the val images: 60 %\n",
      "[143] loss: 1.002\n",
      "Accuracy of the network on the val images: 59 %\n",
      "[144] loss: 0.994\n",
      "Accuracy of the network on the val images: 60 %\n",
      "[145] loss: 1.001\n",
      "Accuracy of the network on the val images: 61 %\n",
      "[146] loss: 0.997\n",
      "Accuracy of the network on the val images: 60 %\n",
      "[147] loss: 0.985\n",
      "Accuracy of the network on the val images: 62 %\n",
      "[148] loss: 1.001\n",
      "Accuracy of the network on the val images: 61 %\n",
      "[149] loss: 0.988\n",
      "Accuracy of the network on the val images: 61 %\n",
      "[150] loss: 0.999\n",
      "Accuracy of the network on the val images: 60 %\n",
      "Finished Training\n"
     ]
    }
   ],
   "source": [
    "########################################################################\n",
    "# 4. Train the network\n",
    "# ^^^^^^^^^^^^^^^^^^^^\n",
    "#\n",
    "# We simply have to loop over our data iterator, and feed the inputs to the\n",
    "# network and optimize. We evaluate the validation accuracy at each\n",
    "# epoch and plot these values over the number of epochs\n",
    "# Nothing to change here\n",
    "# -----------------------------\n",
    "for epoch in range(EPOCHS):  # loop over the dataset multiple times\n",
    "\n",
    "    running_loss = 0.0\n",
    "    for i, data in enumerate(trainloader, 0):\n",
    "        # get the inputs\n",
    "        inputs, labels = data\n",
    "\n",
    "        if IS_GPU:\n",
    "            inputs = inputs.cuda()\n",
    "            labels = labels.cuda()\n",
    "\n",
    "        # wrap them in Variable\n",
    "        inputs, labels = Variable(inputs), Variable(labels)\n",
    "\n",
    "        # zero the parameter gradients\n",
    "        optimizer.zero_grad()\n",
    "\n",
    "        # forward + backward + optimize\n",
    "        outputs = net(inputs)\n",
    "        loss = criterion(outputs, labels)\n",
    "        loss.backward()\n",
    "        optimizer.step()\n",
    "\n",
    "        # print statistics\n",
    "        running_loss += loss.item()\n",
    "    \n",
    "    # Normalizing the loss by the total number of train batches\n",
    "    running_loss/=len(trainloader)\n",
    "    print('[%d] loss: %.3f' %\n",
    "          (epoch + 1, running_loss))\n",
    "\n",
    "    # Scale of 0.0 to 100.0\n",
    "    # Calculate validation set accuracy of the existing model\n",
    "    val_accuracy, val_classwise_accuracy = \\\n",
    "        calculate_val_accuracy(valloader, IS_GPU)\n",
    "    print('Accuracy of the network on the val images: %d %%' % (val_accuracy))\n",
    "\n",
    "    # # Optionally print classwise accuracies\n",
    "    # for c_i in range(TOTAL_CLASSES):\n",
    "    #     print('Accuracy of %5s : %2d %%' % (\n",
    "    #         classes[c_i], 100 * val_classwise_accuracy[c_i]))\n",
    "\n",
    "    train_loss_over_epochs.append(running_loss)\n",
    "    val_accuracy_over_epochs.append(val_accuracy)\n",
    "# -----------------------------\n",
    "\n",
    "\n",
    "# Plot train loss over epochs and val set accuracy over epochs\n",
    "# Nothing to change here\n",
    "# -------------\n",
    "plt.subplot(2, 1, 1)\n",
    "plt.ylabel('Train loss')\n",
    "plt.plot(np.arange(EPOCHS), train_loss_over_epochs, 'k-')\n",
    "plt.title('train loss and val accuracy')\n",
    "plt.xticks(np.arange(EPOCHS, dtype=int))\n",
    "plt.grid(True)\n",
    "\n",
    "plt.subplot(2, 1, 2)\n",
    "plt.plot(np.arange(EPOCHS), val_accuracy_over_epochs, 'b-')\n",
    "plt.ylabel('Val accuracy')\n",
    "plt.xlabel('Epochs')\n",
    "plt.xticks(np.arange(EPOCHS, dtype=int))\n",
    "plt.grid(True)\n",
    "plt.savefig(\"plot.png\")\n",
    "plt.close(fig)\n",
    "print('Finished Training')\n",
    "# -------------"
   ]
  },
  {
   "cell_type": "code",
   "execution_count": 0,
   "metadata": {
    "colab": {},
    "colab_type": "code",
    "id": "v1GE8t3mRdy9"
   },
   "outputs": [],
   "source": [
    "########################################################################\n",
    "# 5. Try the network on test data, and create .csv file\n",
    "# ^^^^^^^^^^^^^^^^^^^^^^^^^^^^^^^^^^^^^^^^^^^^^^^^^^^^^\n",
    "########################################################################\n",
    "\n",
    "# Check out why .eval() is important!\n",
    "# https://discuss.pytorch.org/t/model-train-and-model-eval-vs-model-and-model-eval/5744/2\n",
    "net.eval()\n",
    "\n",
    "total = 0\n",
    "predictions = []\n",
    "for data in testloader:\n",
    "    images, labels = data\n",
    "\n",
    "    # For training on GPU, we need to transfer net and data onto the GPU\n",
    "    # http://pytorch.org/tutorials/beginner/blitz/cifar10_tutorial.html#training-on-gpu\n",
    "    if IS_GPU:\n",
    "        images = images.cuda()\n",
    "        labels = labels.cuda()\n",
    "    \n",
    "    outputs = net(Variable(images))\n",
    "    _, predicted = torch.max(outputs.data, 1)\n",
    "    predictions.extend(list(predicted.cpu().numpy()))\n",
    "    total += labels.size(0)\n",
    "\n",
    "with open('submission_netid8.csv', 'w') as csvfile:\n",
    "    wr = csv.writer(csvfile, quoting=csv.QUOTE_ALL)\n",
    "    wr.writerow([\"Id\", \"Prediction1\"])\n",
    "    for l_i, label in enumerate(predictions):\n",
    "        wr.writerow([str(l_i), str(label)])\n"
   ]
  },
  {
   "cell_type": "markdown",
   "metadata": {
    "colab_type": "text",
    "id": "og2F2MLhs7L6"
   },
   "source": [
    "# Part 2"
   ]
  },
  {
   "cell_type": "code",
   "execution_count": 0,
   "metadata": {
    "colab": {},
    "colab_type": "code",
    "id": "YmWgAtYU_XEI"
   },
   "outputs": [],
   "source": [
    "\n",
    "from __future__ import print_function\n",
    "from PIL import Image\n",
    "import os\n",
    "import os.path\n",
    "import numpy as np\n",
    "import sys\n",
    "if sys.version_info[0] == 2:\n",
    "    import cPickle as pickle\n",
    "else:\n",
    "    import pickle\n",
    "\n",
    "import torch.utils.data as data\n",
    "from torchvision.datasets.utils import download_url, check_integrity\n",
    "\n",
    "import csv\n",
    "%matplotlib inline\n",
    "import matplotlib\n",
    "import matplotlib.pyplot as plt\n",
    "import numpy as np\n",
    "import os.path\n",
    "import sys\n",
    "import torch\n",
    "import torch.utils.data\n",
    "import torchvision\n",
    "import torchvision.transforms as transforms\n",
    "\n",
    "from torch.autograd import Variable\n",
    "import torch.nn as nn\n",
    "import torch.nn.functional as F\n",
    "\n",
    "np.random.seed(111)\n",
    "torch.cuda.manual_seed_all(111)\n",
    "torch.manual_seed(111)\n",
    "\n",
    "os.chdir(\"/content/gdrive/My Drive\")"
   ]
  },
  {
   "cell_type": "code",
   "execution_count": 0,
   "metadata": {
    "colab": {},
    "colab_type": "code",
    "id": "prD0eXGpdoCR"
   },
   "outputs": [],
   "source": [
    "\"\"\"Headers\"\"\"\n",
    "import os\n",
    "import os.path as osp\n",
    "import time\n",
    "\n",
    "%matplotlib inline\n",
    "import matplotlib.pyplot as plt\n",
    "\n",
    "import torch\n",
    "import torch.nn as nn\n",
    "import torchvision.models as models\n",
    "import torch.optim as optim\n",
    "\n",
    "from torchvision import datasets"
   ]
  },
  {
   "cell_type": "markdown",
   "metadata": {
    "colab_type": "text",
    "id": "P6CJz7OM0J9Z"
   },
   "source": [
    "# Pre-Trained Model\n",
    "\n",
    "TODO1. Load pretrained resnet model. Experiment with different models. \n",
    "\n",
    "TODO2: Replace last fc layer\n",
    "\n",
    "TODO3. Forward pass"
   ]
  },
  {
   "cell_type": "code",
   "execution_count": 0,
   "metadata": {
    "colab": {},
    "colab_type": "code",
    "id": "HUdo6AkH0maX"
   },
   "outputs": [],
   "source": [
    "class PreTrainedResNet(nn.Module):\n",
    "  def __init__(self, num_classes, feature_extracting):\n",
    "    super(PreTrainedResNet, self).__init__()\n",
    "    # use_gpu = torch.cuda.is_available()\n",
    "    # resnet = models.resnet50(pretrained=True)\n",
    "    # inputs, labels = next(iter(train_dl))\n",
    "    # if use_gpu:\n",
    "    #     resnet = resnet.cuda()\n",
    "    #     inputs, labels = Variable(inputs.cuda()), Variable(labels.cuda())   \n",
    "    # else:\n",
    "    #     inputs, labels = Variable(inputs), Variable(labels)\n",
    "    # outputs = resnet(inputs)\n",
    "    # outputs.size()\n",
    "    #TODO1: Load pre-trained ResNet Model\n",
    "    self.resnet18 = models.resnet18(pretrained=True)\n",
    "\n",
    "    # self.fc_layer = nn.Sequential(\n",
    "    # nn.Dropout(),\n",
    "    # nn.Linear(1024, 512),\n",
    "    # nn.BatchNorm1d(512),\n",
    "    # nn.ReLU(inplace=True),\n",
    "    # nn.Dropout(),\n",
    "    # nn.Linear(512, 512),\n",
    "    # nn.BatchNorm1d(512),\n",
    "    # nn.ReLU(inplace=True),\n",
    "    # nn.Linear(512, 100)\n",
    "    # )\n",
    "\n",
    "\n",
    "\n",
    "    # #import inception with pre-trained weights. do not include fully #connected layers\n",
    "    # inception_base = applications.resnet50.ResNet50(weights= 'imagenet', include_top=False, input_shape= (img_height,img_width,3))\n",
    "\n",
    "    # # add a global spatial average pooling layer\n",
    "    # x = inception_base.output\n",
    "    # x = GlobalAveragePooling2D()(x)\n",
    "    # # add a fully-connected layer\n",
    "    # x = Dense(512, activation='relu')(x)\n",
    "    # # and a fully connected output/classification layer\n",
    "    # predictions = Dense(200, activation='softmax')(x)\n",
    "    # # create the full network so we can train on it\n",
    "    # inception_transfer = Model(inputs=inception_base.input, outputs=predictions)\n",
    "\n",
    "\n",
    "\n",
    "    #Set gradients to false\n",
    "    # if feature_extracting:\n",
    "    #   for param in self.resnet18.parameters():\n",
    "    #       param.requires_grad = False\n",
    "    \n",
    "    #Replace last fc layer\n",
    "    num_feats = self.resnet18.fc.in_features\n",
    "\n",
    "    self.fc_layer = nn.Sequential(\n",
    "      # nn.Dropout(),\n",
    "      nn.Linear(num_feats, 512),\n",
    "      nn.BatchNorm1d(512),\n",
    "      nn.ReLU(inplace=True),\n",
    "      # nn.Dropout(),\n",
    "      # nn.Linear(512, 512),\n",
    "      # nn.BatchNorm1d(512),\n",
    "      # nn.ReLU(inplace=True),\n",
    "      nn.Linear(512, 200)\n",
    "    )\n",
    "\n",
    "    self.resnet18.fc = self.fc_layer   \n",
    "\n",
    "    # self.resnet18.fc.out_features = 200\n",
    "\n",
    "\n",
    "    print(num_feats)\n",
    "    \n",
    "    #TODO2: Replace fc layer in resnet to a linear layer of size (num_feats, num_classes)\n",
    "    \n",
    "  def forward(self, x):\n",
    "    #TODO3: Forward pass x through the model\n",
    "    x = self.resnet18(x)\n",
    "    return x"
   ]
  },
  {
   "cell_type": "markdown",
   "metadata": {
    "colab_type": "text",
    "id": "Y_DRbNt8Jask"
   },
   "source": [
    "# Train"
   ]
  },
  {
   "cell_type": "code",
   "execution_count": 0,
   "metadata": {
    "colab": {},
    "colab_type": "code",
    "id": "ujUNEVsEvWwv"
   },
   "outputs": [],
   "source": [
    "def train(model, optimizer, criterion, epoch, num_epochs):\n",
    "  model.train()\n",
    "  epoch_loss = 0.0\n",
    "  epoch_acc = 0.0\n",
    "  \n",
    "  for batch_idx, (images, labels) in enumerate(dataloaders['train']):\n",
    "    #zero the parameter gradients\n",
    "    optimizer.zero_grad()\n",
    "    \n",
    "    #move to GPU\n",
    "    images, labels = images.cuda(), labels.cuda()\n",
    "    \n",
    "    #forward\n",
    "    outputs = model.forward(images)\n",
    "    \n",
    "    loss = criterion(outputs, labels)\n",
    "    \n",
    "    _, preds = torch.max(outputs.data, 1)\n",
    "    \n",
    "    loss.backward()\n",
    "    optimizer.step()\n",
    "    \n",
    "    epoch_loss += loss.item()\n",
    "    epoch_acc += torch.sum(preds == labels).item()\n",
    "    \n",
    "  epoch_loss /= dataset_sizes['train']\n",
    "  epoch_acc /= dataset_sizes['train']\n",
    "  \n",
    "  print('TRAINING Epoch %d/%d Loss %.4f Accuracy %.4f' % (epoch, num_epochs, epoch_loss, epoch_acc))"
   ]
  },
  {
   "cell_type": "markdown",
   "metadata": {
    "colab_type": "text",
    "id": "mAbNgE4r7vm-"
   },
   "source": [
    "# Main\n",
    "\n",
    "1. Vary hyperparams\n",
    "2. Data augmentation"
   ]
  },
  {
   "cell_type": "code",
   "execution_count": 22,
   "metadata": {
    "colab": {
     "base_uri": "https://localhost:8080/",
     "height": 937
    },
    "colab_type": "code",
    "id": "oZkI3scVWjOQ",
    "outputId": "bcb57a71-c9a0-4b6d-f640-fe571eeb9307"
   },
   "outputs": [
    {
     "name": "stdout",
     "output_type": "stream",
     "text": [
      "512\n",
      "TRAINING Epoch 1/50 Loss 0.1662 Accuracy 0.0090\n",
      "TRAINING Epoch 2/50 Loss 0.1575 Accuracy 0.0493\n",
      "TRAINING Epoch 3/50 Loss 0.1477 Accuracy 0.1190\n",
      "TRAINING Epoch 4/50 Loss 0.1381 Accuracy 0.1990\n",
      "TRAINING Epoch 5/50 Loss 0.1290 Accuracy 0.2560\n",
      "TRAINING Epoch 6/50 Loss 0.1217 Accuracy 0.3113\n",
      "TRAINING Epoch 7/50 Loss 0.1149 Accuracy 0.3417\n",
      "TRAINING Epoch 8/50 Loss 0.1082 Accuracy 0.4047\n",
      "TRAINING Epoch 9/50 Loss 0.1021 Accuracy 0.4310\n",
      "TRAINING Epoch 10/50 Loss 0.0972 Accuracy 0.4660\n",
      "TRAINING Epoch 11/50 Loss 0.0919 Accuracy 0.4987\n",
      "TRAINING Epoch 12/50 Loss 0.0868 Accuracy 0.5420\n",
      "TRAINING Epoch 13/50 Loss 0.0838 Accuracy 0.5453\n",
      "TRAINING Epoch 14/50 Loss 0.0785 Accuracy 0.5833\n",
      "TRAINING Epoch 15/50 Loss 0.0759 Accuracy 0.5910\n",
      "TRAINING Epoch 16/50 Loss 0.0726 Accuracy 0.6067\n",
      "TRAINING Epoch 17/50 Loss 0.0692 Accuracy 0.6327\n",
      "TRAINING Epoch 18/50 Loss 0.0654 Accuracy 0.6580\n",
      "TRAINING Epoch 19/50 Loss 0.0635 Accuracy 0.6417\n",
      "TRAINING Epoch 20/50 Loss 0.0598 Accuracy 0.6843\n",
      "TRAINING Epoch 21/50 Loss 0.0589 Accuracy 0.6843\n",
      "TRAINING Epoch 22/50 Loss 0.0559 Accuracy 0.6983\n",
      "TRAINING Epoch 23/50 Loss 0.0538 Accuracy 0.7027\n",
      "TRAINING Epoch 24/50 Loss 0.0523 Accuracy 0.7033\n",
      "TRAINING Epoch 25/50 Loss 0.0506 Accuracy 0.7153\n",
      "TRAINING Epoch 26/50 Loss 0.0480 Accuracy 0.7430\n",
      "TRAINING Epoch 27/50 Loss 0.0478 Accuracy 0.7267\n",
      "TRAINING Epoch 28/50 Loss 0.0457 Accuracy 0.7460\n",
      "TRAINING Epoch 29/50 Loss 0.0445 Accuracy 0.7493\n",
      "TRAINING Epoch 30/50 Loss 0.0421 Accuracy 0.7693\n",
      "TRAINING Epoch 31/50 Loss 0.0404 Accuracy 0.7800\n",
      "TRAINING Epoch 32/50 Loss 0.0409 Accuracy 0.7607\n",
      "TRAINING Epoch 33/50 Loss 0.0381 Accuracy 0.7780\n",
      "TRAINING Epoch 34/50 Loss 0.0370 Accuracy 0.7917\n",
      "TRAINING Epoch 35/50 Loss 0.0371 Accuracy 0.7917\n",
      "TRAINING Epoch 36/50 Loss 0.0357 Accuracy 0.8017\n",
      "TRAINING Epoch 37/50 Loss 0.0349 Accuracy 0.7983\n",
      "TRAINING Epoch 38/50 Loss 0.0344 Accuracy 0.8063\n",
      "TRAINING Epoch 39/50 Loss 0.0336 Accuracy 0.8067\n",
      "TRAINING Epoch 40/50 Loss 0.0329 Accuracy 0.8103\n",
      "TRAINING Epoch 41/50 Loss 0.0309 Accuracy 0.8263\n",
      "TRAINING Epoch 42/50 Loss 0.0311 Accuracy 0.8167\n",
      "TRAINING Epoch 43/50 Loss 0.0310 Accuracy 0.8187\n",
      "TRAINING Epoch 44/50 Loss 0.0280 Accuracy 0.8480\n",
      "TRAINING Epoch 45/50 Loss 0.0296 Accuracy 0.8230\n",
      "TRAINING Epoch 46/50 Loss 0.0287 Accuracy 0.8433\n",
      "TRAINING Epoch 47/50 Loss 0.0279 Accuracy 0.8367\n",
      "TRAINING Epoch 48/50 Loss 0.0268 Accuracy 0.8437\n",
      "TRAINING Epoch 49/50 Loss 0.0266 Accuracy 0.8463\n",
      "TRAINING Epoch 50/50 Loss 0.0257 Accuracy 0.8533\n",
      "Finished Training\n",
      "----------\n"
     ]
    }
   ],
   "source": [
    "#TODO: Vary Hyperparams\n",
    "\n",
    "NUM_EPOCHS = 50\n",
    "LEARNING_RATE = 0.001 \n",
    "BATCH_SIZE = 32\n",
    "RESNET_LAST_ONLY = True #Fine tunes only the last layer. Set to False to fine tune entire network\n",
    "\n",
    "root_path = './data/' #If your data is in a different folder, set the path accodordingly\n",
    "\n",
    "data_transforms = {\n",
    "    'train': transforms.Compose([\n",
    "        transforms.Resize(256),\n",
    "        transforms.RandomRotation(45),\n",
    "        transforms.RandomResizedCrop(224),\n",
    "        transforms.RandomHorizontalFlip(),\n",
    "        transforms.ToTensor(),\n",
    "        transforms.Normalize([0.485, 0.456, 0.406],\n",
    "                             [0.229, 0.224, 0.225])\n",
    "        #TODO: Transforms.RandomResizedCrop() instead of CenterCrop(), RandomRoate() and Horizontal Flip()\n",
    "        # transforms.ToTensor(),\n",
    "        # TODO: Transforms.Normalize()\n",
    "    ]),\n",
    "    'test': transforms.Compose([\n",
    "        transforms.Resize(256),\n",
    "        transforms.CenterCrop(224),\n",
    "        transforms.ToTensor(),\n",
    "        transforms.Normalize([0.485, 0.456, 0.406],\n",
    "                             [0.229, 0.224, 0.225])\n",
    "        #TODO: Transforms.Normalize()\n",
    "    ]),\n",
    "}\n",
    "\n",
    "# loading datasets with PyTorch ImageFolder\n",
    "image_datasets = {x: datasets.ImageFolder(os.path.join(root_path, x),\n",
    "                                          data_transforms[x])\n",
    "                  for x in ['train', 'test']}\n",
    "\n",
    "# defining data loaders to load data using image_datasets and transforms, here we also specify batch size for the mini batch\n",
    "dataloaders = {x: torch.utils.data.DataLoader(image_datasets[x], batch_size=BATCH_SIZE,\n",
    "                                             shuffle=True, num_workers=4)\n",
    "              for x in ['train', 'test']}\n",
    "\n",
    "dataset_sizes = {x: len(image_datasets[x]) for x in ['train', 'test']}\n",
    "class_names = image_datasets['train'].classes\n",
    "\n",
    "#Initialize the model\n",
    "model = PreTrainedResNet(len(class_names), RESNET_LAST_ONLY)\n",
    "model = model.cuda()\n",
    "\n",
    "#Setting the optimizer and loss criterion\n",
    "optimizer = optim.SGD(model.parameters(), lr=LEARNING_RATE, momentum=0.9)\n",
    "criterion = nn.CrossEntropyLoss()\n",
    "\n",
    "# print(model)\n",
    "\n",
    "# Begin Train\n",
    "for epoch in range(NUM_EPOCHS):\n",
    "  train(model, optimizer, criterion, epoch+1, NUM_EPOCHS)\n",
    "  \n",
    "print(\"Finished Training\")\n",
    "print(\"-\"*10)"
   ]
  },
  {
   "cell_type": "markdown",
   "metadata": {
    "colab_type": "text",
    "id": "DEbsnh3a7ljw"
   },
   "source": [
    "# Test"
   ]
  },
  {
   "cell_type": "code",
   "execution_count": 0,
   "metadata": {
    "colab": {},
    "colab_type": "code",
    "id": "4wyYKmQ91woU"
   },
   "outputs": [],
   "source": [
    "def test(model, criterion, repeats=2):\n",
    "  model.eval()\n",
    "  \n",
    "  test_loss = 0.0\n",
    "  test_acc = 0.0\n",
    "  \n",
    "  with torch.no_grad():\n",
    "    for itr in range(repeats):\n",
    "      for batch_idx, (images, labels) in enumerate(dataloaders['test']):\n",
    "        #move to GPU\n",
    "        images, labels = images.cuda(), labels.cuda()\n",
    "\n",
    "        #forward\n",
    "        outputs = model.forward(images)\n",
    "\n",
    "        loss = criterion(outputs, labels)\n",
    "\n",
    "        _, preds = torch.max(outputs.data, 1)\n",
    "\n",
    "        test_loss += loss.item()\n",
    "        test_acc += torch.sum(preds == labels).item()\n",
    "\n",
    "    test_loss /= (dataset_sizes['test']*repeats)\n",
    "    test_acc /= (dataset_sizes['test']*repeats)\n",
    "\n",
    "    print('Test Loss: %.4f Test Accuracy %.4f' % (test_loss, test_acc))\n"
   ]
  },
  {
   "cell_type": "code",
   "execution_count": 24,
   "metadata": {
    "colab": {
     "base_uri": "https://localhost:8080/",
     "height": 34
    },
    "colab_type": "code",
    "id": "znXWR6oWyl-B",
    "outputId": "7c0c97ae-9d9c-4e4f-afb2-25b54742a660"
   },
   "outputs": [
    {
     "name": "stdout",
     "output_type": "stream",
     "text": [
      "Test Loss: 0.0456 Test Accuracy 0.6301\n"
     ]
    }
   ],
   "source": [
    "test(model, criterion)"
   ]
  },
  {
   "cell_type": "markdown",
   "metadata": {
    "colab_type": "text",
    "id": "kNX2g3AYUbM2"
   },
   "source": [
    "# Visualizing the model predictions\n",
    "\n",
    "Only for viusalizing. Nothing to be done here. "
   ]
  },
  {
   "cell_type": "code",
   "execution_count": 0,
   "metadata": {
    "colab": {},
    "colab_type": "code",
    "id": "Zd_lkTdoUaOX"
   },
   "outputs": [],
   "source": [
    "def imshow(inp, title=None):\n",
    "    \"\"\"Imshow for Tensor.\"\"\"\n",
    "    inp = inp.numpy().transpose((1, 2, 0))\n",
    "    inp = np.clip(inp, 0, 1)\n",
    "    plt.imshow(inp)\n",
    "    if title is not None:\n",
    "        plt.title(title)\n",
    "    plt.pause(1)  # pause a bit so that plots are updated\n",
    "    \n",
    "def visualize_model(model, num_images=8):\n",
    "    images_so_far = 0\n",
    "    fig = plt.figure()\n",
    "\n",
    "    for batch_idx, (images, labels) in enumerate(dataloaders['test']):\n",
    "        #move to GPU\n",
    "        images, labels = images.cuda(), labels.cuda()\n",
    "        \n",
    "        outputs = model(images)\n",
    "        \n",
    "        _, preds = torch.max(outputs.data, 1)\n",
    "       \n",
    "\n",
    "        for j in range(images.size()[0]):\n",
    "            images_so_far += 1\n",
    "            ax = plt.subplot(num_images//2, 2, images_so_far)\n",
    "            ax.axis('off')\n",
    "            ax.set_title('class: {} predicted: {}'.format(class_names[labels.data[j]], class_names[preds[j]]))\n",
    "\n",
    "            imshow(images.cpu().data[j])\n",
    "\n",
    "            if images_so_far == num_images:\n",
    "                return"
   ]
  },
  {
   "cell_type": "code",
   "execution_count": 26,
   "metadata": {
    "colab": {
     "base_uri": "https://localhost:8080/",
     "height": 633
    },
    "colab_type": "code",
    "id": "sxjSnLKOJsTW",
    "outputId": "eb8d21dd-64c1-45f9-f5ca-12c428724440"
   },
   "outputs": [
    {
     "data": {
      "image/png": "[encoded data removed]",
      "text/plain": [
       "<Figure size 432x288 with 1 Axes>"
      ]
     },
     "metadata": {
      "needs_background": "light",
      "tags": []
     },
     "output_type": "display_data"
    },
    {
     "data": {
      "image/png": "[encoded data removed]",
      "text/plain": [
       "<Figure size 432x288 with 1 Axes>"
      ]
     },
     "metadata": {
      "needs_background": "light",
      "tags": []
     },
     "output_type": "display_data"
    },
    {
     "data": {
      "image/png": "[encoded data removed]",
      "text/plain": [
       "<Figure size 432x288 with 1 Axes>"
      ]
     },
     "metadata": {
      "needs_background": "light",
      "tags": []
     },
     "output_type": "display_data"
    },
    {
     "data": {
      "image/png": "[encoded data removed]",
      "text/plain": [
       "<Figure size 432x288 with 1 Axes>"
      ]
     },
     "metadata": {
      "needs_background": "light",
      "tags": []
     },
     "output_type": "display_data"
    },
    {
     "data": {
      "image/png": "[encoded data removed]",
      "text/plain": [
       "<Figure size 432x288 with 1 Axes>"
      ]
     },
     "metadata": {
      "needs_background": "light",
      "tags": []
     },
     "output_type": "display_data"
    },
    {
     "data": {
      "image/png": "[encoded data removed]",
      "text/plain": [
       "<Figure size 432x288 with 1 Axes>"
      ]
     },
     "metadata": {
      "needs_background": "light",
      "tags": []
     },
     "output_type": "display_data"
    },
    {
     "data": {
      "image/png": "[encoded data removed]",
      "text/plain": [
       "<Figure size 432x288 with 1 Axes>"
      ]
     },
     "metadata": {
      "needs_background": "light",
      "tags": []
     },
     "output_type": "display_data"
    },
    {
     "data": {
      "image/png": "[encoded data removed]",
      "text/plain": [
       "<Figure size 432x288 with 1 Axes>"
      ]
     },
     "metadata": {
      "needs_background": "light",
      "tags": []
     },
     "output_type": "display_data"
    }
   ],
   "source": [
    "visualize_model(model)"
   ]
  },
  {
   "cell_type": "code",
   "execution_count": 27,
   "metadata": {
    "colab": {
     "base_uri": "https://localhost:8080/",
     "height": 937
    },
    "colab_type": "code",
    "id": "HjidTMPoL8YJ",
    "outputId": "2712f5c4-17ea-41b4-a568-75278fdcbe25"
   },
   "outputs": [
    {
     "name": "stdout",
     "output_type": "stream",
     "text": [
      "512\n",
      "TRAINING Epoch 1/50 Loss 0.1923 Accuracy 0.6773\n",
      "TRAINING Epoch 2/50 Loss 0.2039 Accuracy 0.6447\n",
      "TRAINING Epoch 3/50 Loss 0.1902 Accuracy 0.6743\n",
      "TRAINING Epoch 4/50 Loss 0.1896 Accuracy 0.6663\n",
      "TRAINING Epoch 5/50 Loss 0.1805 Accuracy 0.6860\n",
      "TRAINING Epoch 6/50 Loss 0.1744 Accuracy 0.6940\n",
      "TRAINING Epoch 7/50 Loss 0.1706 Accuracy 0.6910\n",
      "TRAINING Epoch 8/50 Loss 0.1665 Accuracy 0.7050\n",
      "TRAINING Epoch 9/50 Loss 0.1616 Accuracy 0.7100\n",
      "TRAINING Epoch 10/50 Loss 0.1494 Accuracy 0.7283\n",
      "TRAINING Epoch 11/50 Loss 0.1422 Accuracy 0.7493\n",
      "TRAINING Epoch 12/50 Loss 0.1464 Accuracy 0.7320\n",
      "TRAINING Epoch 13/50 Loss 0.1421 Accuracy 0.7433\n",
      "TRAINING Epoch 14/50 Loss 0.1389 Accuracy 0.7450\n",
      "TRAINING Epoch 15/50 Loss 0.1330 Accuracy 0.7623\n",
      "TRAINING Epoch 16/50 Loss 0.1342 Accuracy 0.7543\n",
      "TRAINING Epoch 17/50 Loss 0.1289 Accuracy 0.7710\n",
      "TRAINING Epoch 18/50 Loss 0.1276 Accuracy 0.7677\n",
      "TRAINING Epoch 19/50 Loss 0.1180 Accuracy 0.7940\n",
      "TRAINING Epoch 20/50 Loss 0.1253 Accuracy 0.7697\n",
      "TRAINING Epoch 21/50 Loss 0.1230 Accuracy 0.7717\n",
      "TRAINING Epoch 22/50 Loss 0.1129 Accuracy 0.7957\n",
      "TRAINING Epoch 23/50 Loss 0.1240 Accuracy 0.7707\n",
      "TRAINING Epoch 24/50 Loss 0.1163 Accuracy 0.7837\n",
      "TRAINING Epoch 25/50 Loss 0.1122 Accuracy 0.8013\n",
      "TRAINING Epoch 26/50 Loss 0.1038 Accuracy 0.8123\n",
      "TRAINING Epoch 27/50 Loss 0.1119 Accuracy 0.7933\n",
      "TRAINING Epoch 28/50 Loss 0.1012 Accuracy 0.8043\n",
      "TRAINING Epoch 29/50 Loss 0.1026 Accuracy 0.8127\n",
      "TRAINING Epoch 30/50 Loss 0.1035 Accuracy 0.8113\n",
      "TRAINING Epoch 31/50 Loss 0.1003 Accuracy 0.8130\n",
      "TRAINING Epoch 32/50 Loss 0.1011 Accuracy 0.8123\n",
      "TRAINING Epoch 33/50 Loss 0.1022 Accuracy 0.8057\n",
      "TRAINING Epoch 34/50 Loss 0.1056 Accuracy 0.8040\n",
      "TRAINING Epoch 35/50 Loss 0.0970 Accuracy 0.8277\n",
      "TRAINING Epoch 36/50 Loss 0.0981 Accuracy 0.8197\n",
      "TRAINING Epoch 37/50 Loss 0.0917 Accuracy 0.8290\n",
      "TRAINING Epoch 38/50 Loss 0.1006 Accuracy 0.8097\n",
      "TRAINING Epoch 39/50 Loss 0.0955 Accuracy 0.8200\n",
      "TRAINING Epoch 40/50 Loss 0.0980 Accuracy 0.8100\n",
      "TRAINING Epoch 41/50 Loss 0.0923 Accuracy 0.8203\n",
      "TRAINING Epoch 42/50 Loss 0.0863 Accuracy 0.8447\n",
      "TRAINING Epoch 43/50 Loss 0.0908 Accuracy 0.8327\n",
      "TRAINING Epoch 44/50 Loss 0.0861 Accuracy 0.8403\n",
      "TRAINING Epoch 45/50 Loss 0.0944 Accuracy 0.8223\n",
      "TRAINING Epoch 46/50 Loss 0.0829 Accuracy 0.8470\n",
      "TRAINING Epoch 47/50 Loss 0.0912 Accuracy 0.8330\n",
      "TRAINING Epoch 48/50 Loss 0.0885 Accuracy 0.8343\n",
      "TRAINING Epoch 49/50 Loss 0.0819 Accuracy 0.8457\n",
      "TRAINING Epoch 50/50 Loss 0.0844 Accuracy 0.8380\n",
      "Finished Training\n",
      "----------\n"
     ]
    }
   ],
   "source": [
    "#TODO: Vary Hyperparams\n",
    "\n",
    "NUM_EPOCHS = 50\n",
    "LEARNING_RATE = 0.001 \n",
    "BATCH_SIZE = 32\n",
    "RESNET_LAST_ONLY = False #Fine tunes only the last layer. Set to False to fine tune entire network\n",
    "\n",
    "root_path = './data/' #If your data is in a different folder, set the path accodordingly\n",
    "\n",
    "data_transforms = {\n",
    "    'train': transforms.Compose([\n",
    "        transforms.Resize(256),\n",
    "        transforms.RandomRotation(45),\n",
    "        transforms.RandomResizedCrop(224),\n",
    "        transforms.RandomHorizontalFlip(),\n",
    "        transforms.ToTensor(),\n",
    "        transforms.Normalize([0.485, 0.456, 0.406], [0.229, 0.224, 0.225])\n",
    "        #TODO: Transforms.RandomResizedCrop() instead of CenterCrop(), RandomRoate() and Horizontal Flip()\n",
    "        # transforms.ToTensor(),\n",
    "        # TODO: Transforms.Normalize()\n",
    "    ]),\n",
    "    'test': transforms.Compose([\n",
    "        transforms.Resize(256),\n",
    "        transforms.CenterCrop(224),\n",
    "        transforms.ToTensor(),\n",
    "        transforms.Normalize([0.485, 0.456, 0.406], [0.229, 0.224, 0.225])\n",
    "        #TODO: Transforms.Normalize()\n",
    "    ]),\n",
    "}\n",
    "\n",
    "# loading datasets with PyTorch ImageFolder\n",
    "image_datasets = {x: datasets.ImageFolder(os.path.join(root_path, x),\n",
    "                                          data_transforms[x])\n",
    "                  for x in ['train', 'test']}\n",
    "\n",
    "# defining data loaders to load data using image_datasets and transforms, here we also specify batch size for the mini batch\n",
    "dataloaders = {x: torch.utils.data.DataLoader(image_datasets[x], batch_size=BATCH_SIZE,\n",
    "                                             shuffle=True, num_workers=4)\n",
    "              for x in ['train', 'test']}\n",
    "\n",
    "dataset_sizes = {x: len(image_datasets[x]) for x in ['train', 'test']}\n",
    "class_names = image_datasets['train'].classes\n",
    "\n",
    "#Initialize the model\n",
    "model2 = PreTrainedResNet(len(class_names), RESNET_LAST_ONLY)\n",
    "model2 = model.cuda()\n",
    "\n",
    "#Setting the optimizer and loss criterion\n",
    "optimizer = optim.SGD(model2.parameters(), lr=LEARNING_RATE, momentum=0.9)\n",
    "criterion = nn.CrossEntropyLoss()\n",
    "\n",
    "# print(model)\n",
    "\n",
    "# Begin Train\n",
    "for epoch in range(NUM_EPOCHS):\n",
    "  train(model2, optimizer, criterion, epoch+1, NUM_EPOCHS)\n",
    "  \n",
    "print(\"Finished Training\")\n",
    "print(\"-\"*10)"
   ]
  },
  {
   "cell_type": "code",
   "execution_count": 28,
   "metadata": {
    "colab": {
     "base_uri": "https://localhost:8080/",
     "height": 34
    },
    "colab_type": "code",
    "id": "7-h0nSYrAONJ",
    "outputId": "d6d675fb-e4bf-4803-fdc3-e012ff155e8d"
   },
   "outputs": [
    {
     "name": "stdout",
     "output_type": "stream",
     "text": [
      "Test Loss: 0.2730 Test Accuracy 0.5532\n"
     ]
    }
   ],
   "source": [
    "test(model2, criterion)"
   ]
  },
  {
   "cell_type": "code",
   "execution_count": 29,
   "metadata": {
    "colab": {
     "base_uri": "https://localhost:8080/",
     "height": 633
    },
    "colab_type": "code",
    "id": "V76xGt9WY9Qm",
    "outputId": "d6e28140-2676-45a4-dff5-ddbfdb0068c9"
   },
   "outputs": [
    {
     "data": {
      "image/png": "[encoded data removed]",
      "text/plain": [
       "<Figure size 432x288 with 1 Axes>"
      ]
     },
     "metadata": {
      "needs_background": "light",
      "tags": []
     },
     "output_type": "display_data"
    },
    {
     "data": {
      "image/png": "[encoded data removed]",
      "text/plain": [
       "<Figure size 432x288 with 1 Axes>"
      ]
     },
     "metadata": {
      "needs_background": "light",
      "tags": []
     },
     "output_type": "display_data"
    },
    {
     "data": {
      "image/png": "[encoded data removed]",
      "text/plain": [
       "<Figure size 432x288 with 1 Axes>"
      ]
     },
     "metadata": {
      "needs_background": "light",
      "tags": []
     },
     "output_type": "display_data"
    },
    {
     "data": {
      "image/png": "[encoded data removed]",
      "text/plain": [
       "<Figure size 432x288 with 1 Axes>"
      ]
     },
     "metadata": {
      "needs_background": "light",
      "tags": []
     },
     "output_type": "display_data"
    },
    {
     "data": {
      "image/png": "[encoded data removed]",
      "text/plain": [
       "<Figure size 432x288 with 1 Axes>"
      ]
     },
     "metadata": {
      "needs_background": "light",
      "tags": []
     },
     "output_type": "display_data"
    },
    {
     "data": {
      "image/png": "[encoded data removed]",
      "text/plain": [
       "<Figure size 432x288 with 1 Axes>"
      ]
     },
     "metadata": {
      "needs_background": "light",
      "tags": []
     },
     "output_type": "display_data"
    },
    {
     "data": {
      "image/png": "[encoded data removed]",
      "text/plain": [
       "<Figure size 432x288 with 1 Axes>"
      ]
     },
     "metadata": {
      "needs_background": "light",
      "tags": []
     },
     "output_type": "display_data"
    },
    {
     "data": {
      "image/png": "[encoded data removed]",
      "text/plain": [
       "<Figure size 432x288 with 1 Axes>"
      ]
     },
     "metadata": {
      "needs_background": "light",
      "tags": []
     },
     "output_type": "display_data"
    }
   ],
   "source": [
    "visualize_model(model2)"
   ]
  },
  {
   "cell_type": "code",
   "execution_count": 0,
   "metadata": {
    "colab": {},
    "colab_type": "code",
    "id": "HXM7ZjkRtFlD"
   },
   "outputs": [],
   "source": []
  }
 ],
 "metadata": {
  "accelerator": "GPU",
  "colab": {
   "collapsed_sections": [],
   "name": "lab6.ipynb",
   "provenance": [],
   "toc_visible": true
  },
  "kernelspec": {
   "display_name": "Python 3",
   "language": "python",
   "name": "python3"
  },
  "language_info": {
   "codemirror_mode": {
    "name": "ipython",
    "version": 3
   },
   "file_extension": ".py",
   "mimetype": "text/x-python",
   "name": "python",
   "nbconvert_exporter": "python",
   "pygments_lexer": "ipython3",
   "version": "3.7.3"
  }
 },
 "nbformat": 4,
 "nbformat_minor": 1
}
